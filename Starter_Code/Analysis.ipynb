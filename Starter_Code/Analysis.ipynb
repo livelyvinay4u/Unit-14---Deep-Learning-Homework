{
 "cells": [
  {
   "cell_type": "markdown",
   "id": "29a2819a-5252-46a0-a2b7-60d4da356499",
   "metadata": {},
   "source": [
    "# Use the above to answer the following:\n",
    "\n",
    "## Which model has a lower loss?\n",
    "\n",
    "**Answer** \n",
    "Closing price model loss - 0.0569\n",
    "FNG model loss - 0.1495\n",
    "\n",
    "The accuracy of the model is inversely propertional to loss i.e. when the difference between the true values and the estimated values is small. Because that is less for closing price model, hence that model is more accurate.\n",
    "\n",
    "## Which model tracks the actual values better over time?\n",
    "\n",
    "**Answer** \n",
    "Closing price model as that shows predictions trending up as opposed to FNG.\n",
    "\n",
    "## Which window size works best for the model?\n",
    "\n",
    "**Answer**\n",
    "Tried both models with window size from 1 to 10 and could find that loss shows continuos drop from window size 8 onwards. Hence window wize 8 works best for both the models.\n",
    "\n",
    "**Close price model**\n",
    "\n",
    "Window size 10 - loss: 0.0569\n",
    "Window size 9 - loss: 0.0589\n",
    "Window size 8 - loss: 0.0510\n",
    "Window size 7 - loss: 0.0460\n",
    "Window size 6 - loss: 0.0456\n",
    "Window size 5\n",
    "Window size 4\n",
    "Window size 3\n",
    "Window size 2\n",
    "Window size 1\n",
    "\n",
    "**FNG model**\n",
    "\n",
    "Window size 10 - loss: 0.1495\n",
    "Window size 9 - loss: 0.1581\n",
    "Window size 8 - loss: 0.1474\n",
    "Window size 7 - loss: 0.1394\n",
    "Window size 6 - loss: 0.1376\n",
    "Window size 5 - loss: 0.1365\n",
    "Window size 4 - loss: 0.1365\n",
    "Window size 3 - loss: 0.1342\n",
    "Window size 2 - loss: 0.1335\n",
    "Window size 1 - loss: 0.1244"
   ]
  },
  {
   "cell_type": "code",
   "execution_count": null,
   "id": "e531ef8b-da78-4ca8-be14-562e47054540",
   "metadata": {},
   "outputs": [],
   "source": []
  }
 ],
 "metadata": {
  "kernelspec": {
   "display_name": "Python 3 (ipykernel)",
   "language": "python",
   "name": "python3"
  },
  "language_info": {
   "codemirror_mode": {
    "name": "ipython",
    "version": 3
   },
   "file_extension": ".py",
   "mimetype": "text/x-python",
   "name": "python",
   "nbconvert_exporter": "python",
   "pygments_lexer": "ipython3",
   "version": "3.7.11"
  }
 },
 "nbformat": 4,
 "nbformat_minor": 5
}
